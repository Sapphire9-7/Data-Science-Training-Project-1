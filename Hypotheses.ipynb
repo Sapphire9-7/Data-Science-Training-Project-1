{
 "cells": [
  {
   "cell_type": "code",
   "execution_count": 3,
   "metadata": {},
   "outputs": [],
   "source": [
    "import pandas as pd \n",
    "from statsmodels.stats import weightstats as stests\n",
    "import numpy as np\n",
    "from scipy.stats import norm\n",
    "from scipy.stats import chi2_contingency\n",
    "from statsmodels.stats.weightstats import ztest as ztest\n",
    "from scipy.stats import ttest_ind\n",
    "from statsmodels.stats import weightstats\n",
    "from scipy.stats import kruskal\n",
    "from scipy.stats import spearmanr\n",
    "from scipy.stats import f_oneway"
   ]
  },
  {
   "cell_type": "code",
   "execution_count": 4,
   "metadata": {},
   "outputs": [],
   "source": [
    "# Loading the data\n",
    "df = pd.read_csv(\"After_dropping_corr_features2.csv\")"
   ]
  },
  {
   "cell_type": "code",
   "execution_count": 5,
   "metadata": {},
   "outputs": [
    {
     "name": "stdout",
     "output_type": "stream",
     "text": [
      "Null Hypothsis 1: \n",
      "\n",
      "H0: Customers with a higher 'Num_of_Loan' are more likely to have a 'Poor' Credit_Score.\n"
     ]
    }
   ],
   "source": [
    "# Null Hypothesis 1\n",
    "print(\"Null Hypothsis 1: \\n\")\n",
    "print(\"H0: Customers with a higher 'Num_of_Loan' are more likely to have a 'Poor' Credit_Score.\")"
   ]
  },
  {
   "cell_type": "code",
   "execution_count": 6,
   "metadata": {},
   "outputs": [
    {
     "name": "stdout",
     "output_type": "stream",
     "text": [
      "Z-Score: -82.82552300970706\n",
      "P-Value: 1.0\n",
      "=======================================================\n",
      "Fail to reject the null hypothesis.\n"
     ]
    }
   ],
   "source": [
    "# Split according to hypothesis\n",
    "num_of_loan_poor = df[df['Credit_Score_encoded'] == 0]['Num_of_Loan']\n",
    "num_of_loan_not_poor = df[df['Credit_Score_encoded'] != 0]['Num_of_Loan']\n",
    "\n",
    "# Calculating the mean and the standard deviation\n",
    "mean_poor = np.mean(num_of_loan_poor)\n",
    "std_poor = np.std(num_of_loan_poor)\n",
    "mean_not_poor = np.mean(num_of_loan_not_poor)\n",
    "std_not_poor = np.std(num_of_loan_not_poor)\n",
    "\n",
    "# Z-testing\n",
    "z_score_1, p_value_1 = ztest(num_of_loan_poor, num_of_loan_not_poor, alternative = 'larger')\n",
    "\n",
    "# Define alapha\n",
    "alpha = 0.05\n",
    "\n",
    "# Results\n",
    "print(f\"Z-Score: {z_score_1}\")\n",
    "print(f\"P-Value: {p_value_1}\")\n",
    "print(\"=======================================================\")\n",
    "\n",
    "if p_value_1 < alpha:\n",
    "    print(\"Reject the null hypothesis. Num_of_Loan isn't necessarily associated with poor Credit_Score\")\n",
    "else:\n",
    "    print(\"Fail to reject the null hypothesis.\")\n"
   ]
  },
  {
   "cell_type": "code",
   "execution_count": 10,
   "metadata": {},
   "outputs": [
    {
     "name": "stdout",
     "output_type": "stream",
     "text": [
      "Null Hypothsis 2: \n",
      "\n",
      "H0: The customer's Occupation doesn't affect the Credit_Score\n"
     ]
    }
   ],
   "source": [
    "# Null Hypothesis 2\n",
    "print(\"Null Hypothsis 2: \\n\")\n",
    "print(\"H0: The customer's Occupation doesn't affect the Credit_Score\")"
   ]
  },
  {
   "cell_type": "code",
   "execution_count": 11,
   "metadata": {},
   "outputs": [
    {
     "name": "stdout",
     "output_type": "stream",
     "text": [
      "Chi-squared value: 180.68588839512742\n",
      "P-value: 2.907103747503745e-24\n",
      "=======================================================\n",
      "Reject the null hypothesis. There is evidence of a significant association.\n"
     ]
    }
   ],
   "source": [
    "# Both of these columns are categorical\n",
    "# Using Chi-squared\n",
    "\n",
    "# Create a contingency table\n",
    "contingency_table = pd.crosstab(df['Occupation_encoded'], df['Credit_Score_encoded'])\n",
    "\n",
    "# Perform the Chi-squared test\n",
    "chi2, p_value, dof, expected = chi2_contingency(contingency_table)\n",
    "\n",
    "# Define alapha\n",
    "alpha = 0.05\n",
    "\n",
    "# Results\n",
    "print(f\"Chi-squared value: {chi2}\")\n",
    "print(f\"P-value: {p_value}\")\n",
    "print(\"=======================================================\")\n",
    "\n",
    "if p_value < alpha:\n",
    "    print(\"Reject the null hypothesis. There is evidence of association.\")\n",
    "else:\n",
    "    print(\"Fail to reject the null hypothesis.\")"
   ]
  },
  {
   "cell_type": "code",
   "execution_count": 19,
   "metadata": {},
   "outputs": [
    {
     "name": "stdout",
     "output_type": "stream",
     "text": [
      "Null Hypothsis 3: \n",
      "\n",
      "H0: Monthly_Balanace doesn't affect the Credit_Score\n"
     ]
    }
   ],
   "source": [
    "# Hypothesis 3\n",
    "print(\"Null Hypothsis 3: \\n\")\n",
    "print(\"H0: Monthly_Balanace doesn't affect the Credit_Score\")"
   ]
  },
  {
   "cell_type": "code",
   "execution_count": 20,
   "metadata": {},
   "outputs": [
    {
     "name": "stdout",
     "output_type": "stream",
     "text": [
      "F-statistic: 2036.2367996378368\n",
      "P-value: 0.0\n",
      "=======================================================\n",
      "Reject the null hypothesis. There is evidence that Monthly_Balance affects Credit_Score.\n"
     ]
    }
   ],
   "source": [
    "# Continuous and categorical\n",
    "# Perform one-way ANOVA\n",
    "result = f_oneway(df[df['Credit_Score_encoded'] == 0]['Monthly_Balance'],\n",
    "                  df[df['Credit_Score_encoded'] == 1]['Monthly_Balance'],\n",
    "                  df[df['Credit_Score_encoded'] == 2]['Monthly_Balance'])\n",
    "\n",
    "# Define alpha\n",
    "alpha = 0.05\n",
    "\n",
    "# Results \n",
    "print(f\"F-statistic: {result.statistic}\")\n",
    "print(f\"P-value: {result.pvalue}\")\n",
    "print(\"=======================================================\")\n",
    "\n",
    "if result.pvalue < alpha:\n",
    "    print(\"Reject the null hypothesis. There is evidence that Monthly_Balance affects Credit_Score.\")\n",
    "else:\n",
    "    print(\"Fail to reject the null hypothesis.\")"
   ]
  },
  {
   "cell_type": "code",
   "execution_count": 14,
   "metadata": {},
   "outputs": [
    {
     "name": "stdout",
     "output_type": "stream",
     "text": [
      "Null Hypothsis 4: \n",
      "\n",
      "H0: An increase in Credit_Utilization_Ratio equals an increase in Credit_Score\n"
     ]
    }
   ],
   "source": [
    "# Hypothesis 4\n",
    "print(\"Null Hypothsis 4: \\n\")\n",
    "print(\"H0: An increase in Credit_Utilization_Ratio equals an increase in Credit_Score\")"
   ]
  },
  {
   "cell_type": "code",
   "execution_count": 15,
   "metadata": {},
   "outputs": [
    {
     "name": "stdout",
     "output_type": "stream",
     "text": [
      "T-Statistic: 2.5481448325911895\n",
      "P-Value: 0.010831231887083641\n",
      "=======================================================\n",
      "Reject the null hypothesis. There is no evidence that Credit_Utilization_Ratio equals and Credit_Score are linearly associated.\n"
     ]
    }
   ],
   "source": [
    "# Define a threshold for \"lower\" credit utilization\n",
    "lower_utilization_threshold = 30\n",
    "\n",
    "# Splitting according to hypothesis\n",
    "lower_utilization_df = df[df[\"Credit_Utilization_Ratio\"] <= lower_utilization_threshold]\n",
    "higher_utilization_df = df[df[\"Credit_Utilization_Ratio\"] > lower_utilization_threshold]\n",
    "\n",
    "# # T-test to compare credit scores for each of the groups\n",
    "t_stat, p_value = ttest_ind(lower_utilization_df[\"Credit_Score_encoded\"], higher_utilization_df[\"Credit_Score_encoded\"])\n",
    "\n",
    "# Define alpha\n",
    "alpha = 0.05\n",
    "\n",
    "# Results\n",
    "print(f\"T-Statistic: {t_stat}\")\n",
    "print(f\"P-Value: {p_value}\")\n",
    "print(\"=======================================================\")\n",
    "\n",
    "if p_value < alpha:\n",
    "    print(\"Reject the null hypothesis. There is no evidence that Credit_Utilization_Ratio equals and Credit_Score are linearly associated.\")\n",
    "else:\n",
    "    print(\"Fail to reject the null hypothesis.\")"
   ]
  },
  {
   "cell_type": "code",
   "execution_count": 17,
   "metadata": {},
   "outputs": [
    {
     "name": "stdout",
     "output_type": "stream",
     "text": [
      "Null Hypothsis 5: \n",
      "\n",
      "H0: An increase in Num_Bank_Accounts equals an increase in Credit_Score\n"
     ]
    }
   ],
   "source": [
    "# Hypothesis 5\n",
    "print(\"Null Hypothsis 5: \\n\")\n",
    "print(\"H0: An increase in Num_Bank_Accounts equals an increase in Credit_Score\")"
   ]
  },
  {
   "cell_type": "code",
   "execution_count": 23,
   "metadata": {},
   "outputs": [
    {
     "name": "stdout",
     "output_type": "stream",
     "text": [
      "H-statistic: 15711.418589102303\n",
      "P-value: 0.0\n",
      "=======================================================\n",
      "Reject the null hypothesis. There is evidence that the distribution of Num_Bank_Accounts is different across Credit_Score groups.\n"
     ]
    }
   ],
   "source": [
    "# Continuous and categorical\n",
    "# Perform Kruskal-Wallis test\n",
    "result = kruskal(df[df['Credit_Score_encoded'] == 0]['Num_Bank_Accounts'],\n",
    "                 df[df['Credit_Score_encoded'] == 1]['Num_Bank_Accounts'],\n",
    "                 df[df['Credit_Score_encoded'] == 2]['Num_Bank_Accounts'])\n",
    "\n",
    "# Define alpha\n",
    "alpha = 0.05\n",
    "\n",
    "# Results\n",
    "print(f\"H-statistic: {result.statistic}\")\n",
    "print(f\"P-value: {result.pvalue}\")\n",
    "print(\"=======================================================\")\n",
    "\n",
    "if result.pvalue < alpha:\n",
    "    print(\"Reject the null hypothesis. There is evidence that the distribution of Num_Bank_Accounts is different across Credit_Score groups.\")\n",
    "else:\n",
    "    print(\"Fail to reject the null hypothesis. There is no evidence that the distribution of Num_Bank_Accounts differs across Credit_Score groups.\")"
   ]
  },
  {
   "cell_type": "code",
   "execution_count": 30,
   "metadata": {},
   "outputs": [
    {
     "name": "stdout",
     "output_type": "stream",
     "text": [
      "Null Hypothsis 6: \n",
      "\n",
      "H0: An increase in Num_of_Loan equals a decrease in Credit_Score\n"
     ]
    }
   ],
   "source": [
    "# Hypothesis 6\n",
    "print(\"Null Hypothsis 6: \\n\")\n",
    "print(\"H0: An increase in Num_of_Loan equals a decrease in Credit_Score\")"
   ]
  },
  {
   "cell_type": "code",
   "execution_count": 31,
   "metadata": {},
   "outputs": [
    {
     "name": "stdout",
     "output_type": "stream",
     "text": [
      "Spearman's Rank Correlation Coefficient: 0.0123\n",
      "P-value: 0.0001\n",
      "=======================================================\n",
      "Reject the null hypothesis. There is evidence of a significant relationship between the number of loans and the credit score.\n"
     ]
    }
   ],
   "source": [
    "# Finding Spearman's rank correlation coefficient and p-value\n",
    "correlation, p_value = spearmanr(df['Num_of_Loan'], df['Credit_Score_encoded'])\n",
    "\n",
    "# Define alpha\n",
    "alpha = 0.05\n",
    "\n",
    "# Results\n",
    "print(f\"Spearman's Rank Correlation Coefficient: {correlation:.4f}\")\n",
    "print(f\"P-value: {p_value:.4f}\")\n",
    "print(\"=======================================================\")\n",
    "\n",
    "if p_value < alpha:\n",
    "    print(\"Reject the null hypothesis. There is evidence of a significant relationship between the number of loans and the credit score.\")\n",
    "else:\n",
    "    print(\"Fail to reject the null hypothesis. There is no evidence of a significant relationship between the number of loans and the credit score.\")"
   ]
  }
 ],
 "metadata": {
  "kernelspec": {
   "display_name": "Python 3",
   "language": "python",
   "name": "python3"
  },
  "language_info": {
   "codemirror_mode": {
    "name": "ipython",
    "version": 3
   },
   "file_extension": ".py",
   "mimetype": "text/x-python",
   "name": "python",
   "nbconvert_exporter": "python",
   "pygments_lexer": "ipython3",
   "version": "3.9.8"
  },
  "orig_nbformat": 4
 },
 "nbformat": 4,
 "nbformat_minor": 2
}
