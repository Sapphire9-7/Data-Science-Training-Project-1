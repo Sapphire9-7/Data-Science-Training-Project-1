{
 "cells": [
  {
   "cell_type": "markdown",
   "metadata": {},
   "source": [
    "Python File 2"
   ]
  },
  {
   "cell_type": "code",
   "execution_count": 1,
   "metadata": {},
   "outputs": [],
   "source": [
    "import pandas as pd\n",
    "from sklearn.preprocessing import LabelEncoder"
   ]
  },
  {
   "cell_type": "code",
   "execution_count": 2,
   "metadata": {},
   "outputs": [
    {
     "data": {
      "text/html": [
       "<div>\n",
       "<style scoped>\n",
       "    .dataframe tbody tr th:only-of-type {\n",
       "        vertical-align: middle;\n",
       "    }\n",
       "\n",
       "    .dataframe tbody tr th {\n",
       "        vertical-align: top;\n",
       "    }\n",
       "\n",
       "    .dataframe thead th {\n",
       "        text-align: right;\n",
       "    }\n",
       "</style>\n",
       "<table border=\"1\" class=\"dataframe\">\n",
       "  <thead>\n",
       "    <tr style=\"text-align: right;\">\n",
       "      <th></th>\n",
       "      <th>Customer_ID</th>\n",
       "      <th>Month</th>\n",
       "      <th>Age</th>\n",
       "      <th>Annual_Income</th>\n",
       "      <th>Monthly_Inhand_Salary</th>\n",
       "      <th>Num_Bank_Accounts</th>\n",
       "      <th>Num_Credit_Card</th>\n",
       "      <th>Interest_Rate</th>\n",
       "      <th>Num_of_Loan</th>\n",
       "      <th>Delay_from_due_date</th>\n",
       "      <th>...</th>\n",
       "      <th>Credit_Score</th>\n",
       "      <th>Occupation_encoded</th>\n",
       "      <th>Auto Loan</th>\n",
       "      <th>Credit-Builder Loan</th>\n",
       "      <th>Personal Loan</th>\n",
       "      <th>Home Equity Loan</th>\n",
       "      <th>Mortgage Loan</th>\n",
       "      <th>Student Loan</th>\n",
       "      <th>Debt Consolidation Loan</th>\n",
       "      <th>Payday Loan</th>\n",
       "    </tr>\n",
       "  </thead>\n",
       "  <tbody>\n",
       "    <tr>\n",
       "      <th>0</th>\n",
       "      <td>3392</td>\n",
       "      <td>1</td>\n",
       "      <td>23.0</td>\n",
       "      <td>19114.12</td>\n",
       "      <td>1824.843333</td>\n",
       "      <td>3.0</td>\n",
       "      <td>4.0</td>\n",
       "      <td>3.0</td>\n",
       "      <td>4.0</td>\n",
       "      <td>3.0</td>\n",
       "      <td>...</td>\n",
       "      <td>Good</td>\n",
       "      <td>12</td>\n",
       "      <td>1.0</td>\n",
       "      <td>1.0</td>\n",
       "      <td>1.0</td>\n",
       "      <td>1.0</td>\n",
       "      <td>0.0</td>\n",
       "      <td>0.0</td>\n",
       "      <td>0.0</td>\n",
       "      <td>0.0</td>\n",
       "    </tr>\n",
       "    <tr>\n",
       "      <th>1</th>\n",
       "      <td>3392</td>\n",
       "      <td>2</td>\n",
       "      <td>23.0</td>\n",
       "      <td>19114.12</td>\n",
       "      <td>1824.843333</td>\n",
       "      <td>3.0</td>\n",
       "      <td>4.0</td>\n",
       "      <td>3.0</td>\n",
       "      <td>4.0</td>\n",
       "      <td>3.0</td>\n",
       "      <td>...</td>\n",
       "      <td>Good</td>\n",
       "      <td>12</td>\n",
       "      <td>1.0</td>\n",
       "      <td>1.0</td>\n",
       "      <td>1.0</td>\n",
       "      <td>1.0</td>\n",
       "      <td>0.0</td>\n",
       "      <td>0.0</td>\n",
       "      <td>0.0</td>\n",
       "      <td>0.0</td>\n",
       "    </tr>\n",
       "    <tr>\n",
       "      <th>2</th>\n",
       "      <td>3392</td>\n",
       "      <td>3</td>\n",
       "      <td>23.0</td>\n",
       "      <td>19114.12</td>\n",
       "      <td>1824.843333</td>\n",
       "      <td>3.0</td>\n",
       "      <td>4.0</td>\n",
       "      <td>3.0</td>\n",
       "      <td>4.0</td>\n",
       "      <td>3.0</td>\n",
       "      <td>...</td>\n",
       "      <td>Good</td>\n",
       "      <td>12</td>\n",
       "      <td>1.0</td>\n",
       "      <td>1.0</td>\n",
       "      <td>1.0</td>\n",
       "      <td>1.0</td>\n",
       "      <td>0.0</td>\n",
       "      <td>0.0</td>\n",
       "      <td>0.0</td>\n",
       "      <td>0.0</td>\n",
       "    </tr>\n",
       "    <tr>\n",
       "      <th>3</th>\n",
       "      <td>3392</td>\n",
       "      <td>4</td>\n",
       "      <td>23.0</td>\n",
       "      <td>19114.12</td>\n",
       "      <td>1824.843333</td>\n",
       "      <td>3.0</td>\n",
       "      <td>4.0</td>\n",
       "      <td>3.0</td>\n",
       "      <td>4.0</td>\n",
       "      <td>5.0</td>\n",
       "      <td>...</td>\n",
       "      <td>Good</td>\n",
       "      <td>12</td>\n",
       "      <td>1.0</td>\n",
       "      <td>1.0</td>\n",
       "      <td>1.0</td>\n",
       "      <td>1.0</td>\n",
       "      <td>0.0</td>\n",
       "      <td>0.0</td>\n",
       "      <td>0.0</td>\n",
       "      <td>0.0</td>\n",
       "    </tr>\n",
       "    <tr>\n",
       "      <th>4</th>\n",
       "      <td>3392</td>\n",
       "      <td>5</td>\n",
       "      <td>23.0</td>\n",
       "      <td>19114.12</td>\n",
       "      <td>1824.843333</td>\n",
       "      <td>3.0</td>\n",
       "      <td>4.0</td>\n",
       "      <td>3.0</td>\n",
       "      <td>4.0</td>\n",
       "      <td>6.0</td>\n",
       "      <td>...</td>\n",
       "      <td>Good</td>\n",
       "      <td>12</td>\n",
       "      <td>1.0</td>\n",
       "      <td>1.0</td>\n",
       "      <td>1.0</td>\n",
       "      <td>1.0</td>\n",
       "      <td>0.0</td>\n",
       "      <td>0.0</td>\n",
       "      <td>0.0</td>\n",
       "      <td>0.0</td>\n",
       "    </tr>\n",
       "  </tbody>\n",
       "</table>\n",
       "<p>5 rows × 32 columns</p>\n",
       "</div>"
      ],
      "text/plain": [
       "   Customer_ID  Month   Age  Annual_Income  Monthly_Inhand_Salary  \\\n",
       "0         3392      1  23.0       19114.12            1824.843333   \n",
       "1         3392      2  23.0       19114.12            1824.843333   \n",
       "2         3392      3  23.0       19114.12            1824.843333   \n",
       "3         3392      4  23.0       19114.12            1824.843333   \n",
       "4         3392      5  23.0       19114.12            1824.843333   \n",
       "\n",
       "   Num_Bank_Accounts  Num_Credit_Card  Interest_Rate  Num_of_Loan  \\\n",
       "0                3.0              4.0            3.0          4.0   \n",
       "1                3.0              4.0            3.0          4.0   \n",
       "2                3.0              4.0            3.0          4.0   \n",
       "3                3.0              4.0            3.0          4.0   \n",
       "4                3.0              4.0            3.0          4.0   \n",
       "\n",
       "   Delay_from_due_date  ...  Credit_Score  Occupation_encoded  Auto Loan  \\\n",
       "0                  3.0  ...          Good                  12        1.0   \n",
       "1                  3.0  ...          Good                  12        1.0   \n",
       "2                  3.0  ...          Good                  12        1.0   \n",
       "3                  5.0  ...          Good                  12        1.0   \n",
       "4                  6.0  ...          Good                  12        1.0   \n",
       "\n",
       "  Credit-Builder Loan  Personal Loan  Home Equity Loan  Mortgage Loan  \\\n",
       "0                 1.0            1.0               1.0            0.0   \n",
       "1                 1.0            1.0               1.0            0.0   \n",
       "2                 1.0            1.0               1.0            0.0   \n",
       "3                 1.0            1.0               1.0            0.0   \n",
       "4                 1.0            1.0               1.0            0.0   \n",
       "\n",
       "  Student Loan  Debt Consolidation Loan  Payday Loan  \n",
       "0          0.0                      0.0          0.0  \n",
       "1          0.0                      0.0          0.0  \n",
       "2          0.0                      0.0          0.0  \n",
       "3          0.0                      0.0          0.0  \n",
       "4          0.0                      0.0          0.0  \n",
       "\n",
       "[5 rows x 32 columns]"
      ]
     },
     "execution_count": 2,
     "metadata": {},
     "output_type": "execute_result"
    }
   ],
   "source": [
    "df = pd.read_csv(\"modified_final_df.csv\")\n",
    "df.head()"
   ]
  },
  {
   "cell_type": "code",
   "execution_count": 3,
   "metadata": {},
   "outputs": [
    {
     "name": "stdout",
     "output_type": "stream",
     "text": [
      "  Credit Mix  Encoded_Value\n",
      "0        Bad              0\n",
      "1       Good              1\n",
      "2   Standard              2\n"
     ]
    }
   ],
   "source": [
    "# Continuing on with data encoding\n",
    "# Encoding Credit_Mix\n",
    "# Create an instance of the label encoder.\n",
    "label_encoder = LabelEncoder()\n",
    "\n",
    "# Create a new column named \"Credit_Mix_encoded\" where Credit_Mix is numerated.\n",
    "df['Credit_Mix_encoded'] = label_encoder.fit_transform(df['Credit_Mix'])\n",
    "\n",
    "# Create a dataframe to show the mappings of \"Credit_Mix\" entries\n",
    "credit_mix_mapping = pd.DataFrame({\n",
    "    'Credit Mix': label_encoder.classes_,\n",
    "    'Encoded_Value': range(len(label_encoder.classes_))\n",
    "})\n",
    "\n",
    "print(credit_mix_mapping)"
   ]
  },
  {
   "cell_type": "code",
   "execution_count": 4,
   "metadata": {},
   "outputs": [],
   "source": [
    "# Dropping the \"Credit_Mix\" column\n",
    "df.drop('Credit_Mix', axis = 1, inplace = True)"
   ]
  },
  {
   "cell_type": "code",
   "execution_count": 5,
   "metadata": {},
   "outputs": [
    {
     "name": "stdout",
     "output_type": "stream",
     "text": [
      "  Payment_of_Min_Amount  Encoded_Value\n",
      "0                    NM              0\n",
      "1                    No              1\n",
      "2                   Yes              2\n"
     ]
    }
   ],
   "source": [
    "# Encoding \"Payment_of_Min_Amount\"\n",
    "\n",
    "# Create an instance of the label encoder.\n",
    "label_encoder = LabelEncoder()\n",
    "\n",
    "# Create a new column named \"Payment_of_Min_Amount_encoded\" where Payment_of_Min_Amount is numerated.\n",
    "df['Payment_of_Min_Amount_encoded'] = label_encoder.fit_transform(df['Payment_of_Min_Amount'])\n",
    "\n",
    "# Create a dataframe to show the mappings of \"Payment_of_Min_Amount\" entries\n",
    "Payment_of_Min_Amount_mapping = pd.DataFrame({\n",
    "    'Payment_of_Min_Amount': label_encoder.classes_,\n",
    "    'Encoded_Value': range(len(label_encoder.classes_))\n",
    "})\n",
    "\n",
    "print(Payment_of_Min_Amount_mapping)"
   ]
  },
  {
   "cell_type": "code",
   "execution_count": 6,
   "metadata": {},
   "outputs": [],
   "source": [
    "# Dropping the \"Payment_of_Min_Amount\" column\n",
    "df.drop('Payment_of_Min_Amount', axis = 1, inplace = True)"
   ]
  },
  {
   "cell_type": "code",
   "execution_count": 7,
   "metadata": {},
   "outputs": [
    {
     "name": "stdout",
     "output_type": "stream",
     "text": [
      "                  Payment_Behaviour  Encoded_Value\n",
      "0   High_spent_Large_value_payments              0\n",
      "1  High_spent_Medium_value_payments              1\n",
      "2   High_spent_Small_value_payments              2\n",
      "3    Low_spent_Large_value_payments              3\n",
      "4   Low_spent_Medium_value_payments              4\n",
      "5    Low_spent_Small_value_payments              5\n"
     ]
    }
   ],
   "source": [
    "# Encoding \"Payment_Behaviour\"\n",
    "\n",
    "# Create an instance of the label encoder.\n",
    "label_encoder = LabelEncoder()\n",
    "\n",
    "# Create a new column named \"Payment_Behaviour_encoded\" where Payment_Behaviour is numerated.\n",
    "df['Payment_Behaviour_encoded'] = label_encoder.fit_transform(df['Payment_Behaviour'])\n",
    "\n",
    "# Create a dataframe to show the mappings of \"Payment_Behaviour\" entries\n",
    "Payment_Behaviour_mapping = pd.DataFrame({\n",
    "    'Payment_Behaviour': label_encoder.classes_,\n",
    "    'Encoded_Value': range(len(label_encoder.classes_))\n",
    "})\n",
    "\n",
    "print(Payment_Behaviour_mapping)"
   ]
  },
  {
   "cell_type": "code",
   "execution_count": 8,
   "metadata": {},
   "outputs": [],
   "source": [
    "# Dropping the \"Payment_Behaviour\" column\n",
    "df.drop('Payment_Behaviour', axis = 1, inplace = True)"
   ]
  },
  {
   "cell_type": "code",
   "execution_count": 9,
   "metadata": {},
   "outputs": [
    {
     "name": "stdout",
     "output_type": "stream",
     "text": [
      "  Credit_Score  Encoded_Value\n",
      "0         Good              0\n",
      "1         Poor              1\n",
      "2     Standard              2\n"
     ]
    }
   ],
   "source": [
    "# Encoding \"Credit_Score\"\n",
    "\n",
    "# Create an instance of the label encoder.\n",
    "label_encoder = LabelEncoder()\n",
    "\n",
    "# Create a new column named \"Credit_Score\" where Credit_Score is numerated.\n",
    "df['Credit_Score_encoded'] = label_encoder.fit_transform(df['Credit_Score'])\n",
    "\n",
    "# Create a dataframe to show the mappings of \"Credit_Score\" entries\n",
    "Credit_Score_mapping = pd.DataFrame({\n",
    "    'Credit_Score': label_encoder.classes_,\n",
    "    'Encoded_Value': range(len(label_encoder.classes_))\n",
    "})\n",
    "\n",
    "print(Credit_Score_mapping)"
   ]
  },
  {
   "cell_type": "code",
   "execution_count": 10,
   "metadata": {},
   "outputs": [],
   "source": [
    "# Dropping the \"Credit_Score\" column\n",
    "df.drop('Credit_Score', axis = 1, inplace = True)"
   ]
  },
  {
   "cell_type": "code",
   "execution_count": 11,
   "metadata": {},
   "outputs": [],
   "source": [
    "# Save the encoded dataframe to a CSV file\n",
    "df.to_csv('data_encoded.csv', index=False)"
   ]
  },
  {
   "cell_type": "markdown",
   "metadata": {},
   "source": [
    "Onto data_visualizations to see data relations"
   ]
  }
 ],
 "metadata": {
  "kernelspec": {
   "display_name": "Python 3",
   "language": "python",
   "name": "python3"
  },
  "language_info": {
   "codemirror_mode": {
    "name": "ipython",
    "version": 3
   },
   "file_extension": ".py",
   "mimetype": "text/x-python",
   "name": "python",
   "nbconvert_exporter": "python",
   "pygments_lexer": "ipython3",
   "version": "3.9.8"
  },
  "orig_nbformat": 4
 },
 "nbformat": 4,
 "nbformat_minor": 2
}
